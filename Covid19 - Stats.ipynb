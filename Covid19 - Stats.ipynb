{
 "cells": [
  {
   "cell_type": "code",
   "execution_count": 2,
   "metadata": {
    "scrolled": false
   },
   "outputs": [
    {
     "name": "stdout",
     "output_type": "stream",
     "text": [
      "current confirmed Covid19 cases\n",
      "Total: 8590132\n"
     ]
    }
   ],
   "source": [
    "from covid19_backend import get_most_infected_countries\n",
    "\n",
    "countries = get_most_infected_countries(5)\n",
    "\n",
    "df_total = countries[0]\n",
    "df_new_infected = countries[1]"
   ]
  },
  {
   "cell_type": "code",
   "execution_count": 3,
   "metadata": {},
   "outputs": [
    {
     "name": "stdout",
     "output_type": "stream",
     "text": [
      "   Position                   Country  Total Cases  New Cases\n",
      "0         1  United States of America      2191052      27762\n",
      "1         2                    Brazil       978142      22765\n",
      "2         3                     India       380532      13586\n",
      "3         4        Russian Federation       560321       7772\n",
      "4         5                    Mexico       165455       5662\n"
     ]
    }
   ],
   "source": [
    "print(df_new_infected)"
   ]
  },
  {
   "cell_type": "code",
   "execution_count": null,
   "metadata": {},
   "outputs": [],
   "source": []
  },
  {
   "cell_type": "code",
   "execution_count": 4,
   "metadata": {},
   "outputs": [
    {
     "name": "stdout",
     "output_type": "stream",
     "text": [
      "   Position                   Country  Total Cases  New Cases\n",
      "0         1  United States of America      2191052      27762\n",
      "1         2                    Brazil       978142      22765\n",
      "2         3        Russian Federation       560321       7772\n",
      "3         4                     India       380532      13586\n",
      "4         5            United Kingdom       301935       1218\n"
     ]
    }
   ],
   "source": [
    "# Print the output.\n",
    "print(df_total)"
   ]
  },
  {
   "cell_type": "code",
   "execution_count": null,
   "metadata": {},
   "outputs": [],
   "source": []
  }
 ],
 "metadata": {
  "kernelspec": {
   "display_name": "Python 3",
   "language": "python",
   "name": "python3"
  },
  "language_info": {
   "codemirror_mode": {
    "name": "ipython",
    "version": 3
   },
   "file_extension": ".py",
   "mimetype": "text/x-python",
   "name": "python",
   "nbconvert_exporter": "python",
   "pygments_lexer": "ipython3",
   "version": "3.7.6"
  }
 },
 "nbformat": 4,
 "nbformat_minor": 4
}
